{
 "cells": [
  {
   "cell_type": "code",
   "id": "initial_id",
   "metadata": {
    "collapsed": true
   },
   "source": [
    "import pandas as pd\n",
    "import geopandas as gpd\n",
    "import fiona\n",
    "import leafmap.foliumap as leafmap\n",
    "import time\n",
    "import requests\n",
    "from geopy.geocoders import GoogleV3\n",
    "from geopy.extra.rate_limiter import RateLimiter\n",
    "import os\n",
    "import re"
   ],
   "outputs": [],
   "execution_count": null
  },
  {
   "metadata": {},
   "cell_type": "code",
   "source": [
    "path_row = \"data/fiber_lines.gpkg\"\n",
    "path_customers = \"data/coverage_streets_raw.gpkg\""
   ],
   "id": "c82528a9c0f435eb",
   "outputs": [],
   "execution_count": null
  },
  {
   "metadata": {},
   "cell_type": "markdown",
   "source": "Load layers in `Right of Way` file",
   "id": "953d86df520e7ab7"
  },
  {
   "metadata": {},
   "cell_type": "code",
   "source": [
    "# Load all layers from right_of_way.gpkg\n",
    "layers = fiona.listlayers(path_row)\n",
    "gdf = [gpd.read_file(path_row, layer=lyr) for lyr in layers]\n",
    "layers"
   ],
   "id": "1483a5cde2075328",
   "outputs": [],
   "execution_count": null
  },
  {
   "metadata": {},
   "cell_type": "markdown",
   "source": "Merge all the layers in the `Right of Way` package",
   "id": "8c3af2189aa24b2e"
  },
  {
   "metadata": {},
   "cell_type": "code",
   "source": [
    "# Merge them into one GeoDataFrame\n",
    "gdf_right = gpd.GeoDataFrame(pd.concat(gdf, ignore_index=True), crs=gdf[0].crs)"
   ],
   "id": "38f413f15fcf966d",
   "outputs": [],
   "execution_count": null
  },
  {
   "metadata": {},
   "cell_type": "markdown",
   "source": "Read `Customer coverage` data",
   "id": "e2b707180e95d870"
  },
  {
   "metadata": {},
   "cell_type": "code",
   "source": [
    "# Load customer coverage lines\n",
    "gdf_all = gpd.read_file(path_customers)\n",
    "\n",
    "# Make sure they’re in the same CRS\n",
    "gdf_all = gdf_all.to_crs(gdf_right.crs)"
   ],
   "id": "8e8abb61fa070133",
   "outputs": [],
   "execution_count": null
  },
  {
   "metadata": {},
   "cell_type": "markdown",
   "source": [
    "- Right of Way has 699 LineStrings\n",
    "- Total Customer Coverage has 4522 LineStrings"
   ],
   "id": "62523415afca0854"
  },
  {
   "metadata": {},
   "cell_type": "code",
   "source": "gdf_all[\"geometry\"]",
   "id": "fd1f2294e1f040fa",
   "outputs": [],
   "execution_count": null
  },
  {
   "metadata": {},
   "cell_type": "markdown",
   "source": "Break down MultiLineStrings into LineStrings so that the lines that can iterated individually",
   "id": "89eb22c2b678a39a"
  },
  {
   "metadata": {},
   "cell_type": "code",
   "source": [
    "gdf_right = gdf_right.explode(index_parts=False, ignore_index=True)\n",
    "gdf_all = gdf_all.explode(index_parts=False, ignore_index=True)"
   ],
   "id": "fca82912adb2de1",
   "outputs": [],
   "execution_count": null
  },
  {
   "metadata": {},
   "cell_type": "markdown",
   "source": [
    "Check for lines that intersect between the Right of Way and Customer Coverage and filter them out\n",
    "- The lines may be really close and not perfectly intersect, so we need a buffer for 5 metres"
   ],
   "id": "1a19388b4f37319c"
  },
  {
   "metadata": {},
   "cell_type": "code",
   "source": [
    "# Option 1: exact geometry comparison\n",
    "\n",
    "buffered_right = gdf_right.buffer(39)  # 5 meters tolerance\n",
    "# gdf_non_right = gdf_all[~gdf_all.intersects(buffered_right.union_all())]\n",
    "gdf_non_right = gdf_all[~gdf_all.intersects(gdf_right.unary_union)]\n",
    "gdf_non_right[\"geometry\"].value_counts().sum()"
   ],
   "id": "f2bcfe5b71cfa0be",
   "outputs": [],
   "execution_count": null
  },
  {
   "metadata": {},
   "cell_type": "markdown",
   "source": [
    "There are 2967 LineStrings without Right of Way\n",
    "- 4522 -> 2967 -> 2844(buffer of 5m) -> 2594(buffer off 39m)"
   ],
   "id": "c6b67250256a7d0"
  },
  {
   "metadata": {},
   "cell_type": "markdown",
   "source": "Calculate distance and assign values to a field",
   "id": "532e881b1b5b6198"
  },
  {
   "metadata": {},
   "cell_type": "code",
   "source": [
    "gdf_non_right = gdf_non_right.to_crs(epsg=32631)\n",
    "gdf_non_right[\"distance_m\"] = gdf_non_right.geometry.length"
   ],
   "id": "bee4cce683e6d96f",
   "outputs": [],
   "execution_count": null
  },
  {
   "metadata": {},
   "cell_type": "code",
   "source": "gdf_non_right",
   "id": "aabc3c6b6e9c4bb",
   "outputs": [],
   "execution_count": null
  },
  {
   "metadata": {},
   "cell_type": "markdown",
   "source": "Plot the Customer Coverage without Right of Way",
   "id": "3cee0b85c6976566"
  },
  {
   "metadata": {},
   "cell_type": "code",
   "source": [
    "# Create a map centered roughly on your data\n",
    "m = leafmap.Map(center=[6.45, 3.39], zoom=9, style=\"streets\")\n",
    "\n",
    "# Style for non-right-of-way lines\n",
    "style_non_right = {\n",
    "    \"color\": \"blue\",\n",
    "    \"weight\": 2,\n",
    "}\n",
    "\n",
    "# Style for right-of-way lines\n",
    "style_right = {\n",
    "    \"color\": \"red\",\n",
    "    \"weight\": 2,\n",
    "}\n",
    "\n",
    "# Add the GeoDataFrame\n",
    "# tooltip_fields = [col for col in [\"road_street_name\", \"LOCAL GOVERNMENT\", \"distance(m)\"] if col in gdf_non_right.columns]\n",
    "\n",
    "# Add non-right-of-way roads\n",
    "m.add_gdf(\n",
    "    gdf_non_right,\n",
    "    layer_type=\"line\",\n",
    "    layer_name=\"Non-Right-of-Way Roads\",\n",
    "    style=style_non_right,\n",
    ")\n",
    "\n",
    "# Add right-of-way roads\n",
    "m.add_gdf(\n",
    "    gdf_right,\n",
    "    layer_type=\"line\",\n",
    "    layer_name=\"Right-of-Way Roads\",\n",
    "    style=style_right,\n",
    ")\n",
    "\n",
    "# Zoom to fit both datasets\n",
    "m.zoom_to_gdf(pd.concat([gdf_non_right, gdf_right]))\n",
    "\n",
    "m"
   ],
   "id": "e4fb32987b5015b",
   "outputs": [],
   "execution_count": null
  },
  {
   "metadata": {},
   "cell_type": "markdown",
   "source": "Browser",
   "id": "6240baf4faaa6da5"
  },
  {
   "metadata": {},
   "cell_type": "code",
   "source": "# webbrowser.open(\"map.html\")",
   "id": "e6bc593ed8230d23",
   "outputs": [],
   "execution_count": null
  },
  {
   "metadata": {},
   "cell_type": "markdown",
   "source": "Save File",
   "id": "6aa056af55d9f620"
  },
  {
   "metadata": {},
   "cell_type": "code",
   "source": "#",
   "id": "b2b1cfb2bdea1bf7",
   "outputs": [],
   "execution_count": null
  },
  {
   "metadata": {},
   "cell_type": "markdown",
   "source": "Reverse geocode lines to get coordinates",
   "id": "487574aeb4ac94f0"
  },
  {
   "metadata": {},
   "cell_type": "code",
   "source": "API_KEY = os.getenv(\"banjo_google_api_key\")",
   "id": "f3d6a16d611eb3ff",
   "outputs": [],
   "execution_count": null
  },
  {
   "metadata": {},
   "cell_type": "code",
   "source": [
    "geolocator = GoogleV3(api_key=API_KEY, timeout=10)\n",
    "# Set to False to raise exceptions on failures (useful for debugging)\n",
    "geocode = RateLimiter(geolocator.geocode, min_delay_seconds=5, swallow_exceptions=False)\n",
    "reverse_geocode = RateLimiter(geolocator.reverse, min_delay_seconds=5, swallow_exceptions=False )"
   ],
   "id": "f570358f659b1d22",
   "outputs": [],
   "execution_count": null
  },
  {
   "metadata": {},
   "cell_type": "code",
   "source": [
    "def reverse_geocode(lat, lon, api_key):\n",
    "    \"\"\"\n",
    "    Reverse geocode coordinates using Google Maps API.\n",
    "    Returns the formatted address, or None if not found.\n",
    "    \"\"\"\n",
    "    try:\n",
    "        url = f\"https://maps.googleapis.com/maps/api/geocode/json?latlng={lat},{lon}&key={api_key}\"\n",
    "        response = requests.get(url)\n",
    "        result = response.json()\n",
    "\n",
    "        if result[\"status\"] == \"OK\" and len(result[\"results\"]) > 0:\n",
    "            address = result[\"results\"][0][\"formatted_address\"]\n",
    "            print(f\"Address found: {address}\")\n",
    "            return address\n",
    "        else:\n",
    "            print(f\"No address found for {lat}, {lon}\")\n",
    "            return None\n",
    "    except Exception as e:\n",
    "        print(f\"Error reverse geocoding ({lat}, {lon}): {e}\")\n",
    "        return None"
   ],
   "id": "ac1e4ceb6f815c1a",
   "outputs": [],
   "execution_count": null
  },
  {
   "metadata": {},
   "cell_type": "code",
   "source": [
    "def batch_reverse_geocode(gdf, api_key, batch_size=50, delay=2):\n",
    "    \"\"\"\n",
    "    For each LineString in the GeoDataFrame, compute centroid,\n",
    "    reverse geocode it with Google API, and add results as new columns.\n",
    "    \"\"\"\n",
    "    # Ensure centroids are computed\n",
    "    gdf[\"centroid\"] = gdf.geometry.centroid\n",
    "    gdf[\"lat\"] = gdf.centroid.y\n",
    "    gdf[\"lon\"] = gdf.centroid.x\n",
    "\n",
    "    addresses = []\n",
    "\n",
    "    for i, row in gdf.iterrows():\n",
    "        lat, lon = row[\"lat\"], row[\"lon\"]\n",
    "        address = reverse_geocode(lat, lon, api_key)  # <- your function\n",
    "        addresses.append(address)\n",
    "\n",
    "        # Pause after a batch to avoid quota issues\n",
    "        if (i + 1) % batch_size == 0:\n",
    "            print(f\"Processed {i+1} rows, pausing {delay}s...\")\n",
    "            time.sleep(delay)\n",
    "\n",
    "    gdf[\"address\"] = addresses\n",
    "    return gdf"
   ],
   "id": "391873a627ee890b",
   "outputs": [],
   "execution_count": null
  },
  {
   "metadata": {},
   "cell_type": "markdown",
   "source": "Test Run",
   "id": "d68e66a40f431a13"
  },
  {
   "metadata": {},
   "cell_type": "code",
   "source": [
    "gdf_sample = gdf_non_right.head(40).copy()\n",
    "if gdf_sample.crs != \"EPSG:4326\":\n",
    "    gdf_sample = gdf_sample.to_crs(epsg=4326)\n",
    "\n",
    "gdf_non_right_with_addr = batch_reverse_geocode(gdf=gdf_sample, api_key=API_KEY)"
   ],
   "id": "403cfbec1e8f19de",
   "outputs": [],
   "execution_count": null
  },
  {
   "metadata": {},
   "cell_type": "code",
   "source": [
    "def extract_street_name(address: str) -> str:\n",
    "    \"\"\"\n",
    "    Extract street name from a Google Maps formatted address.\n",
    "    Examples:\n",
    "        \"9 Abudu Oladejo St, Papa Ashafa, Lagos 102212, Lagos, Nigeria\"\n",
    "            -> \"Abudu Oladejo St\"\n",
    "        \"13b Peace Cl, Ifako Agege, Lagos 101232, Lagos, Nigeria\"\n",
    "            -> \"Peace Cl\"\n",
    "        \"11A Ajayi Rd, Ojodu, Ikeja 300001, Lagos, Nigeria\"\n",
    "            -> \"Ajayi Rd\"\n",
    "        \"Harmony Estate, 29 Kolapo Boluwade Cres, Ifako-Ijaiye, Lagos 101232, Lagos, Nigeria\"\n",
    "            -> \"Kolapo Boluwade Cres\"   # (if estate name comes first, we still extract street)\n",
    "    \"\"\"\n",
    "\n",
    "    if not isinstance(address, str) or not address.strip():\n",
    "        return \"\"\n",
    "\n",
    "    # Split by comma, take the first chunk (usually house no. + street)\n",
    "    first_part = address.split(\",\")[0].strip()\n",
    "\n",
    "    # Remove house numbers (e.g., \"18 \" or \"13b \")\n",
    "    first_part = re.sub(r\"^\\d+[A-Za-z\\-]*\\s+\", \"\", first_part)\n",
    "\n",
    "    # Return cleaned street part\n",
    "    return first_part.strip()"
   ],
   "id": "92ad26070e8f578f",
   "outputs": [],
   "execution_count": null
  },
  {
   "metadata": {},
   "cell_type": "code",
   "source": "gdf_sample[\"name\"] = gdf_sample[\"name\"].fillna(gdf_sample[\"address\"].apply(extract_street_name))",
   "id": "ea4abd33f1c253f4",
   "outputs": [],
   "execution_count": null
  },
  {
   "metadata": {},
   "cell_type": "code",
   "source": "gdf_sample",
   "id": "d5fb6e25fb337071",
   "outputs": [],
   "execution_count": null
  },
  {
   "metadata": {},
   "cell_type": "markdown",
   "source": "Plot Sample",
   "id": "3165c459555e1510"
  },
  {
   "metadata": {},
   "cell_type": "code",
   "source": [
    "m = leafmap.Map(center=[6.45, 3.39], zoom=9, style=\"streets\")\n",
    "gdf_plot = gdf_sample.drop(columns=[\"centroid\", \"id\", \"code\", \"ref\", \"rid\"], errors=\"ignore\")\n",
    "gdf_plot.to_crs(epsg=32631)\n",
    "m.add_gdf(\n",
    "    gdf_plot,\n",
    "    layer_type=\"line\",\n",
    "    layer_name=\"Non-Right-of-Way Roads\",\n",
    "    style={\n",
    "    \"color\": \"blue\",\n",
    "    \"weight\": 2,\n",
    "},\n",
    ")\n",
    "m"
   ],
   "id": "b97dc11bfbf53373",
   "outputs": [],
   "execution_count": null
  },
  {
   "metadata": {},
   "cell_type": "markdown",
   "source": "Convert from UTM to WGS84 for compatibility with Google API",
   "id": "4678e340817f21ca"
  },
  {
   "metadata": {},
   "cell_type": "code",
   "source": [
    "if gdf_non_right.crs != \"EPSG:4326\":\n",
    "    gdf_non_right = gdf_non_right.to_crs(epsg=4326)\n",
    "\n",
    "gdf_non_right_with_addr = batch_reverse_geocode(gdf=gdf_non_right, api_key=API_KEY)"
   ],
   "id": "cbb94ab249d62dda",
   "outputs": [],
   "execution_count": null
  },
  {
   "metadata": {},
   "cell_type": "code",
   "source": [
    "from difference_intersecting_lines import filter_non_intersecting_lines\n",
    "\n",
    "gdf = filter_non_intersecting_lines(\"data/fiber_lines.gpkg\", \"data/coverage_streets_raw.gpkg\", api_key=API_KEY)"
   ],
   "id": "d741181327065301",
   "outputs": [],
   "execution_count": null
  },
  {
   "metadata": {},
   "cell_type": "code",
   "source": [
    "# 6.476630356790446, 3.6095868468658163 is Karimu Adeyi Street, Lekki, Lagos, Nigeria\n",
    "file = gdf[\"gdf\"]\n",
    "# file.to_file(\"customers_without_right_of_way.gpkg\")\n",
    "# file.to_csv(\"customers_without_right_of_way.csv\", index=False)"
   ],
   "id": "f41712be58eb23d7",
   "outputs": [],
   "execution_count": null
  }
 ],
 "metadata": {
  "kernelspec": {
   "display_name": "Python 3",
   "language": "python",
   "name": "python3"
  },
  "language_info": {
   "codemirror_mode": {
    "name": "ipython",
    "version": 2
   },
   "file_extension": ".py",
   "mimetype": "text/x-python",
   "name": "python",
   "nbconvert_exporter": "python",
   "pygments_lexer": "ipython2",
   "version": "2.7.6"
  }
 },
 "nbformat": 4,
 "nbformat_minor": 5
}
